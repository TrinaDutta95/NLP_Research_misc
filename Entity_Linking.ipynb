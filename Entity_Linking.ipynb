{
  "nbformat": 4,
  "nbformat_minor": 0,
  "metadata": {
    "colab": {
      "provenance": []
    },
    "kernelspec": {
      "name": "python3",
      "display_name": "Python 3"
    },
    "language_info": {
      "name": "python"
    }
  },
  "cells": [
    {
      "cell_type": "code",
      "source": [
        "!pip install https://github.com/amazon-science/ReFinED/archive/refs/tags/V1.zip"
      ],
      "metadata": {
        "colab": {
          "base_uri": "https://localhost:8080/"
        },
        "id": "STLV0sqnVTJz",
        "outputId": "c1af22ad-1665-45c5-bda7-ed8b727082fa"
      },
      "execution_count": 2,
      "outputs": [
        {
          "output_type": "stream",
          "name": "stdout",
          "text": [
            "Collecting https://github.com/amazon-science/ReFinED/archive/refs/tags/V1.zip\n",
            "  Downloading https://github.com/amazon-science/ReFinED/archive/refs/tags/V1.zip\n",
            "\u001b[2K     \u001b[32m/\u001b[0m \u001b[32m202.4 kB\u001b[0m \u001b[31m836.5 kB/s\u001b[0m \u001b[33m0:00:00\u001b[0m\n",
            "\u001b[?25h  Preparing metadata (setup.py) ... \u001b[?25l\u001b[?25hdone\n",
            "Requirement already satisfied: requests in /usr/local/lib/python3.10/dist-packages (from ReFinED==1.0) (2.31.0)\n",
            "Requirement already satisfied: torch>=1.12.1 in /usr/local/lib/python3.10/dist-packages (from ReFinED==1.0) (2.2.1+cu121)\n",
            "Requirement already satisfied: numpy>=1.15.4 in /usr/local/lib/python3.10/dist-packages (from ReFinED==1.0) (1.25.2)\n",
            "Requirement already satisfied: nltk>=3.5 in /usr/local/lib/python3.10/dist-packages (from ReFinED==1.0) (3.8.1)\n",
            "Requirement already satisfied: urllib3>=1.25.8 in /usr/local/lib/python3.10/dist-packages (from ReFinED==1.0) (2.0.7)\n",
            "Collecting Unidecode>=1.1.1 (from ReFinED==1.0)\n",
            "  Downloading Unidecode-1.3.8-py3-none-any.whl (235 kB)\n",
            "\u001b[2K     \u001b[90m━━━━━━━━━━━━━━━━━━━━━━━━━━━━━━━━━━━━━━━━\u001b[0m \u001b[32m235.5/235.5 kB\u001b[0m \u001b[31m3.6 MB/s\u001b[0m eta \u001b[36m0:00:00\u001b[0m\n",
            "\u001b[?25hCollecting ujson (from ReFinED==1.0)\n",
            "  Downloading ujson-5.9.0-cp310-cp310-manylinux_2_17_x86_64.manylinux2014_x86_64.whl (53 kB)\n",
            "\u001b[2K     \u001b[90m━━━━━━━━━━━━━━━━━━━━━━━━━━━━━━━━━━━━━━━━\u001b[0m \u001b[32m53.2/53.2 kB\u001b[0m \u001b[31m3.8 MB/s\u001b[0m eta \u001b[36m0:00:00\u001b[0m\n",
            "\u001b[?25hRequirement already satisfied: tqdm in /usr/local/lib/python3.10/dist-packages (from ReFinED==1.0) (4.66.2)\n",
            "Requirement already satisfied: transformers>=4.2.2 in /usr/local/lib/python3.10/dist-packages (from ReFinED==1.0) (4.40.1)\n",
            "Requirement already satisfied: tensorboard in /usr/local/lib/python3.10/dist-packages (from ReFinED==1.0) (2.15.2)\n",
            "Requirement already satisfied: Cython in /usr/local/lib/python3.10/dist-packages (from ReFinED==1.0) (3.0.10)\n",
            "Collecting lmdb>=1.0 (from ReFinED==1.0)\n",
            "  Downloading lmdb-1.4.1-cp310-cp310-manylinux_2_17_x86_64.manylinux2014_x86_64.whl (299 kB)\n",
            "\u001b[2K     \u001b[90m━━━━━━━━━━━━━━━━━━━━━━━━━━━━━━━━━━━━━━━━\u001b[0m \u001b[32m299.2/299.2 kB\u001b[0m \u001b[31m10.1 MB/s\u001b[0m eta \u001b[36m0:00:00\u001b[0m\n",
            "\u001b[?25hCollecting boto3 (from ReFinED==1.0)\n",
            "  Downloading boto3-1.34.97-py3-none-any.whl (139 kB)\n",
            "\u001b[2K     \u001b[90m━━━━━━━━━━━━━━━━━━━━━━━━━━━━━━━━━━━━━━━━\u001b[0m \u001b[32m139.3/139.3 kB\u001b[0m \u001b[31m4.3 MB/s\u001b[0m eta \u001b[36m0:00:00\u001b[0m\n",
            "\u001b[?25hCollecting prettyprint (from ReFinED==1.0)\n",
            "  Downloading prettyprint-0.1.5.tar.gz (2.1 kB)\n",
            "  Preparing metadata (setup.py) ... \u001b[?25l\u001b[?25hdone\n",
            "Collecting botocore (from ReFinED==1.0)\n",
            "  Downloading botocore-1.34.97-py3-none-any.whl (12.2 MB)\n",
            "\u001b[2K     \u001b[90m━━━━━━━━━━━━━━━━━━━━━━━━━━━━━━━━━━━━━━━━\u001b[0m \u001b[32m12.2/12.2 MB\u001b[0m \u001b[31m30.1 MB/s\u001b[0m eta \u001b[36m0:00:00\u001b[0m\n",
            "\u001b[?25hRequirement already satisfied: click in /usr/local/lib/python3.10/dist-packages (from nltk>=3.5->ReFinED==1.0) (8.1.7)\n",
            "Requirement already satisfied: joblib in /usr/local/lib/python3.10/dist-packages (from nltk>=3.5->ReFinED==1.0) (1.4.0)\n",
            "Requirement already satisfied: regex>=2021.8.3 in /usr/local/lib/python3.10/dist-packages (from nltk>=3.5->ReFinED==1.0) (2023.12.25)\n",
            "Requirement already satisfied: filelock in /usr/local/lib/python3.10/dist-packages (from torch>=1.12.1->ReFinED==1.0) (3.14.0)\n",
            "Requirement already satisfied: typing-extensions>=4.8.0 in /usr/local/lib/python3.10/dist-packages (from torch>=1.12.1->ReFinED==1.0) (4.11.0)\n",
            "Requirement already satisfied: sympy in /usr/local/lib/python3.10/dist-packages (from torch>=1.12.1->ReFinED==1.0) (1.12)\n",
            "Requirement already satisfied: networkx in /usr/local/lib/python3.10/dist-packages (from torch>=1.12.1->ReFinED==1.0) (3.3)\n",
            "Requirement already satisfied: jinja2 in /usr/local/lib/python3.10/dist-packages (from torch>=1.12.1->ReFinED==1.0) (3.1.3)\n",
            "Requirement already satisfied: fsspec in /usr/local/lib/python3.10/dist-packages (from torch>=1.12.1->ReFinED==1.0) (2023.6.0)\n",
            "Collecting nvidia-cuda-nvrtc-cu12==12.1.105 (from torch>=1.12.1->ReFinED==1.0)\n",
            "  Using cached nvidia_cuda_nvrtc_cu12-12.1.105-py3-none-manylinux1_x86_64.whl (23.7 MB)\n",
            "Collecting nvidia-cuda-runtime-cu12==12.1.105 (from torch>=1.12.1->ReFinED==1.0)\n",
            "  Using cached nvidia_cuda_runtime_cu12-12.1.105-py3-none-manylinux1_x86_64.whl (823 kB)\n",
            "Collecting nvidia-cuda-cupti-cu12==12.1.105 (from torch>=1.12.1->ReFinED==1.0)\n",
            "  Using cached nvidia_cuda_cupti_cu12-12.1.105-py3-none-manylinux1_x86_64.whl (14.1 MB)\n",
            "Collecting nvidia-cudnn-cu12==8.9.2.26 (from torch>=1.12.1->ReFinED==1.0)\n",
            "  Using cached nvidia_cudnn_cu12-8.9.2.26-py3-none-manylinux1_x86_64.whl (731.7 MB)\n",
            "Collecting nvidia-cublas-cu12==12.1.3.1 (from torch>=1.12.1->ReFinED==1.0)\n",
            "  Using cached nvidia_cublas_cu12-12.1.3.1-py3-none-manylinux1_x86_64.whl (410.6 MB)\n",
            "Collecting nvidia-cufft-cu12==11.0.2.54 (from torch>=1.12.1->ReFinED==1.0)\n",
            "  Using cached nvidia_cufft_cu12-11.0.2.54-py3-none-manylinux1_x86_64.whl (121.6 MB)\n",
            "Collecting nvidia-curand-cu12==10.3.2.106 (from torch>=1.12.1->ReFinED==1.0)\n",
            "  Using cached nvidia_curand_cu12-10.3.2.106-py3-none-manylinux1_x86_64.whl (56.5 MB)\n",
            "Collecting nvidia-cusolver-cu12==11.4.5.107 (from torch>=1.12.1->ReFinED==1.0)\n",
            "  Using cached nvidia_cusolver_cu12-11.4.5.107-py3-none-manylinux1_x86_64.whl (124.2 MB)\n",
            "Collecting nvidia-cusparse-cu12==12.1.0.106 (from torch>=1.12.1->ReFinED==1.0)\n",
            "  Using cached nvidia_cusparse_cu12-12.1.0.106-py3-none-manylinux1_x86_64.whl (196.0 MB)\n",
            "Collecting nvidia-nccl-cu12==2.19.3 (from torch>=1.12.1->ReFinED==1.0)\n",
            "  Using cached nvidia_nccl_cu12-2.19.3-py3-none-manylinux1_x86_64.whl (166.0 MB)\n",
            "Collecting nvidia-nvtx-cu12==12.1.105 (from torch>=1.12.1->ReFinED==1.0)\n",
            "  Using cached nvidia_nvtx_cu12-12.1.105-py3-none-manylinux1_x86_64.whl (99 kB)\n",
            "Requirement already satisfied: triton==2.2.0 in /usr/local/lib/python3.10/dist-packages (from torch>=1.12.1->ReFinED==1.0) (2.2.0)\n",
            "Collecting nvidia-nvjitlink-cu12 (from nvidia-cusolver-cu12==11.4.5.107->torch>=1.12.1->ReFinED==1.0)\n",
            "  Using cached nvidia_nvjitlink_cu12-12.4.127-py3-none-manylinux2014_x86_64.whl (21.1 MB)\n",
            "Requirement already satisfied: huggingface-hub<1.0,>=0.19.3 in /usr/local/lib/python3.10/dist-packages (from transformers>=4.2.2->ReFinED==1.0) (0.20.3)\n",
            "Requirement already satisfied: packaging>=20.0 in /usr/local/lib/python3.10/dist-packages (from transformers>=4.2.2->ReFinED==1.0) (24.0)\n",
            "Requirement already satisfied: pyyaml>=5.1 in /usr/local/lib/python3.10/dist-packages (from transformers>=4.2.2->ReFinED==1.0) (6.0.1)\n",
            "Requirement already satisfied: tokenizers<0.20,>=0.19 in /usr/local/lib/python3.10/dist-packages (from transformers>=4.2.2->ReFinED==1.0) (0.19.1)\n",
            "Requirement already satisfied: safetensors>=0.4.1 in /usr/local/lib/python3.10/dist-packages (from transformers>=4.2.2->ReFinED==1.0) (0.4.3)\n",
            "Collecting jmespath<2.0.0,>=0.7.1 (from boto3->ReFinED==1.0)\n",
            "  Downloading jmespath-1.0.1-py3-none-any.whl (20 kB)\n",
            "Collecting s3transfer<0.11.0,>=0.10.0 (from boto3->ReFinED==1.0)\n",
            "  Downloading s3transfer-0.10.1-py3-none-any.whl (82 kB)\n",
            "\u001b[2K     \u001b[90m━━━━━━━━━━━━━━━━━━━━━━━━━━━━━━━━━━━━━━━━\u001b[0m \u001b[32m82.2/82.2 kB\u001b[0m \u001b[31m9.5 MB/s\u001b[0m eta \u001b[36m0:00:00\u001b[0m\n",
            "\u001b[?25hRequirement already satisfied: python-dateutil<3.0.0,>=2.1 in /usr/local/lib/python3.10/dist-packages (from botocore->ReFinED==1.0) (2.8.2)\n",
            "Requirement already satisfied: charset-normalizer<4,>=2 in /usr/local/lib/python3.10/dist-packages (from requests->ReFinED==1.0) (3.3.2)\n",
            "Requirement already satisfied: idna<4,>=2.5 in /usr/local/lib/python3.10/dist-packages (from requests->ReFinED==1.0) (3.7)\n",
            "Requirement already satisfied: certifi>=2017.4.17 in /usr/local/lib/python3.10/dist-packages (from requests->ReFinED==1.0) (2024.2.2)\n",
            "Requirement already satisfied: absl-py>=0.4 in /usr/local/lib/python3.10/dist-packages (from tensorboard->ReFinED==1.0) (1.4.0)\n",
            "Requirement already satisfied: grpcio>=1.48.2 in /usr/local/lib/python3.10/dist-packages (from tensorboard->ReFinED==1.0) (1.63.0)\n",
            "Requirement already satisfied: google-auth<3,>=1.6.3 in /usr/local/lib/python3.10/dist-packages (from tensorboard->ReFinED==1.0) (2.27.0)\n",
            "Requirement already satisfied: google-auth-oauthlib<2,>=0.5 in /usr/local/lib/python3.10/dist-packages (from tensorboard->ReFinED==1.0) (1.2.0)\n",
            "Requirement already satisfied: markdown>=2.6.8 in /usr/local/lib/python3.10/dist-packages (from tensorboard->ReFinED==1.0) (3.6)\n",
            "Requirement already satisfied: protobuf!=4.24.0,>=3.19.6 in /usr/local/lib/python3.10/dist-packages (from tensorboard->ReFinED==1.0) (3.20.3)\n",
            "Requirement already satisfied: setuptools>=41.0.0 in /usr/local/lib/python3.10/dist-packages (from tensorboard->ReFinED==1.0) (67.7.2)\n",
            "Requirement already satisfied: six>1.9 in /usr/local/lib/python3.10/dist-packages (from tensorboard->ReFinED==1.0) (1.16.0)\n",
            "Requirement already satisfied: tensorboard-data-server<0.8.0,>=0.7.0 in /usr/local/lib/python3.10/dist-packages (from tensorboard->ReFinED==1.0) (0.7.2)\n",
            "Requirement already satisfied: werkzeug>=1.0.1 in /usr/local/lib/python3.10/dist-packages (from tensorboard->ReFinED==1.0) (3.0.2)\n",
            "Requirement already satisfied: cachetools<6.0,>=2.0.0 in /usr/local/lib/python3.10/dist-packages (from google-auth<3,>=1.6.3->tensorboard->ReFinED==1.0) (5.3.3)\n",
            "Requirement already satisfied: pyasn1-modules>=0.2.1 in /usr/local/lib/python3.10/dist-packages (from google-auth<3,>=1.6.3->tensorboard->ReFinED==1.0) (0.4.0)\n",
            "Requirement already satisfied: rsa<5,>=3.1.4 in /usr/local/lib/python3.10/dist-packages (from google-auth<3,>=1.6.3->tensorboard->ReFinED==1.0) (4.9)\n",
            "Requirement already satisfied: requests-oauthlib>=0.7.0 in /usr/local/lib/python3.10/dist-packages (from google-auth-oauthlib<2,>=0.5->tensorboard->ReFinED==1.0) (1.3.1)\n",
            "Requirement already satisfied: MarkupSafe>=2.1.1 in /usr/local/lib/python3.10/dist-packages (from werkzeug>=1.0.1->tensorboard->ReFinED==1.0) (2.1.5)\n",
            "Requirement already satisfied: mpmath>=0.19 in /usr/local/lib/python3.10/dist-packages (from sympy->torch>=1.12.1->ReFinED==1.0) (1.3.0)\n",
            "Requirement already satisfied: pyasn1<0.7.0,>=0.4.6 in /usr/local/lib/python3.10/dist-packages (from pyasn1-modules>=0.2.1->google-auth<3,>=1.6.3->tensorboard->ReFinED==1.0) (0.6.0)\n",
            "Requirement already satisfied: oauthlib>=3.0.0 in /usr/local/lib/python3.10/dist-packages (from requests-oauthlib>=0.7.0->google-auth-oauthlib<2,>=0.5->tensorboard->ReFinED==1.0) (3.2.2)\n",
            "Building wheels for collected packages: ReFinED, prettyprint\n",
            "  Building wheel for ReFinED (setup.py) ... \u001b[?25l\u001b[?25hdone\n",
            "  Created wheel for ReFinED: filename=ReFinED-1.0-py3-none-any.whl size=179031 sha256=1c105e46bf18a80460b450d691980ddde3c0452f45c1e60e6921f984ae5dc28a\n",
            "  Stored in directory: /tmp/pip-ephem-wheel-cache-8ywamo3u/wheels/57/ac/44/70e75a67d53687262a3656f0cf34a0fccd8978b9b2cc53ff05\n",
            "  Building wheel for prettyprint (setup.py) ... \u001b[?25l\u001b[?25hdone\n",
            "  Created wheel for prettyprint: filename=prettyprint-0.1.5-py3-none-any.whl size=3027 sha256=2c8c82eda4bbc99ec30d7ece53bd87ba2774fd10d99b9d65eb9cd006def0b644\n",
            "  Stored in directory: /root/.cache/pip/wheels/b2/d0/51/477413885481c635ab7c6400f96f47b8a0971bbc1241ff9c9f\n",
            "Successfully built ReFinED prettyprint\n",
            "Installing collected packages: prettyprint, lmdb, Unidecode, ujson, nvidia-nvtx-cu12, nvidia-nvjitlink-cu12, nvidia-nccl-cu12, nvidia-curand-cu12, nvidia-cufft-cu12, nvidia-cuda-runtime-cu12, nvidia-cuda-nvrtc-cu12, nvidia-cuda-cupti-cu12, nvidia-cublas-cu12, jmespath, nvidia-cusparse-cu12, nvidia-cudnn-cu12, botocore, s3transfer, nvidia-cusolver-cu12, boto3, ReFinED\n",
            "Successfully installed ReFinED-1.0 Unidecode-1.3.8 boto3-1.34.97 botocore-1.34.97 jmespath-1.0.1 lmdb-1.4.1 nvidia-cublas-cu12-12.1.3.1 nvidia-cuda-cupti-cu12-12.1.105 nvidia-cuda-nvrtc-cu12-12.1.105 nvidia-cuda-runtime-cu12-12.1.105 nvidia-cudnn-cu12-8.9.2.26 nvidia-cufft-cu12-11.0.2.54 nvidia-curand-cu12-10.3.2.106 nvidia-cusolver-cu12-11.4.5.107 nvidia-cusparse-cu12-12.1.0.106 nvidia-nccl-cu12-2.19.3 nvidia-nvjitlink-cu12-12.4.127 nvidia-nvtx-cu12-12.1.105 prettyprint-0.1.5 s3transfer-0.10.1 ujson-5.9.0\n"
          ]
        }
      ]
    },
    {
      "cell_type": "code",
      "source": [
        "from refined.inference.processor import Refined\n",
        "refined = Refined.from_pretrained(model_name='wikipedia_model_with_numbers',\n",
        "                                  entity_set=\"wikipedia\")"
      ],
      "metadata": {
        "colab": {
          "base_uri": "https://localhost:8080/"
        },
        "id": "jhCBjhLKVbLc",
        "outputId": "a72efb07-ad2c-4561-ed89-9ef39f5a121f"
      },
      "execution_count": 3,
      "outputs": [
        {
          "output_type": "stream",
          "name": "stderr",
          "text": [
            "Downloading /root/.cache/refined/wikipedia_model_with_numbers/model.pt: 100%|██████████| 724M/724M [00:07<00:00, 96.2MB/s]\n",
            "Downloading /root/.cache/refined/wikipedia_model_with_numbers/config.json: 100%|██████████| 658/658 [00:00<00:00, 3.29kB/s]\n",
            "Downloading /root/.cache/refined/wikipedia_model_with_numbers/precomputed_entity_descriptions_emb_wikipedia_6269457-300.np: 100%|██████████| 3.76G/3.76G [00:29<00:00, 128MB/s] \n",
            "Downloading /root/.cache/refined/roberta-base/pytorch_model.bin: 100%|██████████| 501M/501M [00:04<00:00, 103MB/s]\n",
            "Downloading /root/.cache/refined/roberta-base/config.json: 100%|██████████| 481/481 [00:00<00:00, 2.39kB/s]\n",
            "Downloading /root/.cache/refined/roberta-base/vocab.json: 100%|██████████| 899k/899k [00:00<00:00, 4.31MB/s]\n",
            "Downloading /root/.cache/refined/roberta-base/merges.txt: 100%|██████████| 456k/456k [00:00<00:00, 1.98MB/s]\n",
            "Downloading /root/.cache/refined/wikipedia_data/pem.lmdb: 100%|██████████| 1.42G/1.42G [00:12<00:00, 115MB/s]\n",
            "Downloading /root/.cache/refined/wikipedia_data/class_to_label.json: 100%|██████████| 49.8k/49.8k [00:00<00:00, 287kB/s]\n",
            "Downloading /root/.cache/refined/wikipedia_data/human_qcodes.json: 100%|██████████| 87.4M/87.4M [00:00<00:00, 115MB/s]\n",
            "Downloading /root/.cache/refined/wikipedia_data/class_to_idx.json: 100%|██████████| 23.2k/23.2k [00:00<00:00, 121kB/s]\n",
            "Downloading /root/.cache/refined/wikipedia_data/qcode_to_idx.lmdb: 100%|██████████| 238M/238M [00:01<00:00, 134MB/s]\n",
            "Downloading /root/.cache/refined/wikipedia_data/qcode_to_class_tns_6269457-138.np: 100%|██████████| 1.73G/1.73G [00:13<00:00, 130MB/s]\n",
            "Downloading /root/.cache/refined/wikipedia_data/subclasses.lmdb: 100%|██████████| 120M/120M [00:00<00:00, 126MB/s]\n",
            "Downloading /root/.cache/refined/wikipedia_data/qcode_to_wiki.lmdb: 100%|██████████| 580M/580M [00:03<00:00, 156MB/s]\n",
            "Downloading /root/.cache/refined/wikipedia_data/nltk_sentence_splitter_english.pickle: 100%|██████████| 407k/407k [00:00<00:00, 2.02MB/s]\n"
          ]
        }
      ]
    },
    {
      "cell_type": "code",
      "source": [
        "#reading text from a file\n",
        "file = open(\"amr_test.txt\", \"r\")\n",
        "text = file.read()\n",
        "print(text)\n",
        "file.close()"
      ],
      "metadata": {
        "colab": {
          "base_uri": "https://localhost:8080/"
        },
        "id": "_zlwJmvhcWOi",
        "outputId": "da5da93e-bc57-495b-944f-a3541024534c"
      },
      "execution_count": null,
      "outputs": [
        {
          "output_type": "stream",
          "name": "stdout",
          "text": [
            "(p / play-01\n",
            "      :ARG0 (p2 / person\n",
            "            :name (n / name\n",
            "                  :op1 \"Grimes\"))\n",
            "      :ARG1 (g / game\n",
            "            :quant 7)\n",
            "      :beneficiary (t / team\n",
            "            :name (n2 / name\n",
            "                  :op1 \"Swansea\"))\n",
            "      :time (s / since\n",
            "            :op1 (m / move-01\n",
            "                  :ARG1 p2\n",
            "                  :ARG2 (t2 / team\n",
            "                        :name (n3 / name\n",
            "                              :op1 \"Liberty\"\n",
            "                              :op2 \"Stadium\"))\n",
            "                  :ARG3 (t3 / team\n",
            "                        :name (n4 / name\n",
            "                              :op1 \"Exeter\"\n",
            "                              :op2 \"City\")\n",
            "                        :mod (l / league\n",
            "                              :name (n5 / name\n",
            "                                    :op1 \"League\"\n",
            "                                    :op2 \"Two\")))\n",
            "                  :ARG4 t2\n",
            "                  :time (d / date-entity\n",
            "                        :month 1\n",
            "                        :year 2015)\n",
            "                  :ARG1-of (c / cost-01\n",
            "                        :ARG2 (m2 / monetary-quantity\n",
            "                              :quant 1300000\n",
            "                              :unit (p3 / pound))))))\n"
          ]
        }
      ]
    },
    {
      "cell_type": "code",
      "source": [
        "text = \"\"\"Grimes has played seven games for Swansea since making Grimes's £1.75m move to the Liberty Stadium from League Two Exeter City in January 2015.\"\"\"\n",
        "spans = refined.process_text(text)\n",
        "print(spans)"
      ],
      "metadata": {
        "colab": {
          "base_uri": "https://localhost:8080/"
        },
        "id": "Wuq6Caacb1ft",
        "outputId": "c1a521d3-787f-4023-a5eb-189db356c363"
      },
      "execution_count": 6,
      "outputs": [
        {
          "output_type": "stream",
          "name": "stderr",
          "text": [
            "/usr/local/lib/python3.10/dist-packages/torch/amp/autocast_mode.py:250: UserWarning: User provided device_type of 'cuda', but CUDA is not available. Disabling\n",
            "  warnings.warn(\n"
          ]
        },
        {
          "output_type": "stream",
          "name": "stdout",
          "text": [
            "[['Grimes', Entity(wikidata_entity_id=Q4805457, wikipedia_entity_title=Ashley Grimes (footballer, born 1986)), 'PERSON'], ['seven', None, 'CARDINAL'], ['Swansea', Entity(wikidata_entity_id=Q18659, wikipedia_entity_title=Swansea City A.F.C.), 'ORG'], ['Grimes', Entity(wikidata_entity_id=Q4805457, wikipedia_entity_title=Ashley Grimes (footballer, born 1986)), 'PERSON'], ['£1.75m', None, 'MONEY'], ['Liberty Stadium', Entity(wikidata_entity_id=Q580480, wikipedia_entity_title=Liberty Stadium), 'FAC'], ['Two', Entity(wikidata_entity_id=Q48837, wikipedia_entity_title=EFL League Two), 'EVENT'], ['Exeter City', Entity(wikidata_entity_id=Q48939, wikipedia_entity_title=Exeter City F.C.), 'ORG'], ['January 2015', Entity(parsed_string=[timepoint: [\"2015/1\"]]), 'DATE']]\n"
          ]
        }
      ]
    }
  ]
}